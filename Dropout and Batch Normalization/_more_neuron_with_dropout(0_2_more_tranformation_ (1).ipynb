{
  "nbformat": 4,
  "nbformat_minor": 0,
  "metadata": {
    "colab": {
      "provenance": [],
      "gpuType": "T4"
    },
    "kernelspec": {
      "name": "python3",
      "display_name": "Python 3"
    },
    "language_info": {
      "name": "python"
    },
    "accelerator": "GPU"
  },
  "cells": [
    {
      "cell_type": "markdown",
      "source": [
        "# more neuron_with dropout(0.2_more_tranformation_"
      ],
      "metadata": {
        "id": "W5kN8TD2_xE7"
      }
    },
    {
      "cell_type": "code",
      "source": [
        "import torch\n",
        "import torch.nn as nn\n",
        "import torchvision\n",
        "import torchvision.transforms as transforms\n",
        "import matplotlib.pyplot as plt\n",
        "import numpy as np\n",
        "from sklearn.metrics import confusion_matrix, precision_recall_fscore_support, accuracy_score\n",
        "import seaborn as sns\n",
        "import time\n",
        "from torch.optim import Adam\n",
        "import torch.nn.functional as F\n"
      ],
      "metadata": {
        "id": "VqUA-DcmraHv"
      },
      "execution_count": 1,
      "outputs": []
    },
    {
      "cell_type": "code",
      "source": [
        "# Configuration\n",
        "device = torch.device('cuda' if torch.cuda.is_available() else 'cpu')\n",
        "num_epochs = 50\n",
        "batch_size = 10\n",
        "learning_rate = 0.001"
      ],
      "metadata": {
        "id": "juW6mTx4radJ"
      },
      "execution_count": 2,
      "outputs": []
    },
    {
      "cell_type": "code",
      "source": [
        "transform = transforms.Compose([\n",
        "    transforms.RandomHorizontalFlip(),\n",
        "    transforms.RandomRotation(10),\n",
        "    transforms.RandomResizedCrop(32, scale=(0.8, 1.0)),\n",
        "    transforms.ColorJitter(brightness=0.2, contrast=0.2, saturation=0.2),\n",
        "    transforms.ToTensor(),\n",
        "    transforms.Normalize((0.5071, 0.4867, 0.4408), (0.2675, 0.2565, 0.2761))\n",
        "])\n",
        "train_dataset = torchvision.datasets.CIFAR100(root='./data', train=True,\n",
        "                                              download=True, transform=transform)\n",
        "test_dataset = torchvision.datasets.CIFAR100(root='./data', train=False,\n",
        "                                             download=True, transform=transform)\n",
        "\n",
        "# Splitting the training set into train and validation sets\n",
        "train_size = int(0.8 * len(train_dataset)) # Using 80% for training\n",
        "val_size = len(train_dataset) - train_size\n",
        "train_subset, val_subset = torch.utils.data.random_split(train_dataset, [train_size, val_size])\n",
        "\n",
        "train_loader = torch.utils.data.DataLoader(train_subset, batch_size=batch_size, shuffle=True)\n",
        "val_loader = torch.utils.data.DataLoader(val_subset, batch_size=batch_size, shuffle=False)\n",
        "test_loader = torch.utils.data.DataLoader(test_dataset, batch_size=batch_size, shuffle=False)\n"
      ],
      "metadata": {
        "colab": {
          "base_uri": "https://localhost:8080/"
        },
        "id": "NPuFaq38rbrE",
        "outputId": "0aa5ac6d-e5b7-4c47-c200-404a2ac3cca1"
      },
      "execution_count": 3,
      "outputs": [
        {
          "output_type": "stream",
          "name": "stdout",
          "text": [
            "Downloading https://www.cs.toronto.edu/~kriz/cifar-100-python.tar.gz to ./data/cifar-100-python.tar.gz\n"
          ]
        },
        {
          "output_type": "stream",
          "name": "stderr",
          "text": [
            "100%|██████████| 169001437/169001437 [00:04<00:00, 36144956.43it/s]\n"
          ]
        },
        {
          "output_type": "stream",
          "name": "stdout",
          "text": [
            "Extracting ./data/cifar-100-python.tar.gz to ./data\n",
            "Files already downloaded and verified\n"
          ]
        }
      ]
    },
    {
      "cell_type": "code",
      "source": [
        "import torch.nn as nn\n",
        "import torch.nn.functional as F\n",
        "\n",
        "class ConvNet(nn.Module):\n",
        "    def __init__(self, dropout_prob=0.2):\n",
        "        super(ConvNet, self).__init__()\n",
        "        self.conv1 = nn.Conv2d(3, 64, kernel_size=3, stride=1, padding=1)\n",
        "        self.bn1 = nn.BatchNorm2d(64)\n",
        "        self.pool = nn.MaxPool2d(2, 2)\n",
        "\n",
        "        self.conv2 = nn.Conv2d(64, 128, kernel_size=3, stride=1, padding=1)\n",
        "        self.bn2 = nn.BatchNorm2d(128)\n",
        "\n",
        "        self.conv3 = nn.Conv2d(128, 256, kernel_size=3, stride=1, padding=1)\n",
        "        self.bn3 = nn.BatchNorm2d(256)\n",
        "\n",
        "        self.fc1 = nn.Linear(256 * 4 * 4, 1024)\n",
        "        self.bn4 = nn.BatchNorm1d(1024)\n",
        "        self.dropout = nn.Dropout(p=dropout_prob)\n",
        "\n",
        "        self.fc2 = nn.Linear(1024, 512)\n",
        "        self.bn5 = nn.BatchNorm1d(512)\n",
        "\n",
        "        self.fc3 = nn.Linear(512, 100)\n",
        "\n",
        "    def forward(self, x):\n",
        "        x = self.pool(F.relu(self.bn1(self.conv1(x))))\n",
        "        x = self.pool(F.relu(self.bn2(self.conv2(x))))\n",
        "        x = self.pool(F.relu(self.bn3(self.conv3(x))))\n",
        "\n",
        "        x = x.view(-1, 256 * 4 * 4)\n",
        "        x = F.relu(self.bn4(self.fc1(x)))\n",
        "        x = self.dropout(x)  # Applying dropout after activation function\n",
        "\n",
        "        x = F.relu(self.bn5(self.fc2(x)))\n",
        "        x = self.dropout(x)  # Applying dropout after activation function\n",
        "\n",
        "        x = self.fc3(x)\n",
        "        return x\n",
        "\n",
        "# Ensure that the device variable is defined before this line\n",
        "model = ConvNet().to(device)\n"
      ],
      "metadata": {
        "id": "X2bJT9lvrdFJ"
      },
      "execution_count": 4,
      "outputs": []
    },
    {
      "cell_type": "code",
      "source": [
        "class EarlyStopping:\n",
        "    def __init__(self, patience=7, verbose=False, delta=0):\n",
        "        self.patience = patience\n",
        "        self.verbose = verbose\n",
        "        self.counter = 0\n",
        "        self.best_score = None\n",
        "        self.early_stop = False\n",
        "        self.val_loss_min = float('inf')\n",
        "        self.delta = delta\n",
        "        self.best_model = None  # Store the best model state\n",
        "\n",
        "    def __call__(self, val_loss, model):\n",
        "        score = -val_loss\n",
        "\n",
        "        if self.best_score is None:\n",
        "            self.best_score = score\n",
        "            self.best_model = model.state_dict()\n",
        "        elif score < self.best_score + self.delta:\n",
        "            self.counter += 1\n",
        "            if self.verbose:\n",
        "                print(f'EarlyStopping counter: {self.counter} out of {self.patience}')\n",
        "            if self.counter >= self.patience:\n",
        "                self.early_stop = True\n",
        "        else:\n",
        "            self.best_score = score\n",
        "            self.best_model = model.state_dict()  # Update the best model state\n",
        "            self.counter = 0"
      ],
      "metadata": {
        "id": "HPQd1ZSnW9GB"
      },
      "execution_count": 5,
      "outputs": []
    },
    {
      "cell_type": "code",
      "source": [
        "\n",
        "\n",
        "# Loss and Optimizer\n",
        "criterion = nn.CrossEntropyLoss()\n",
        "optimizer = Adam(model.parameters(), lr=learning_rate)\n",
        "\n",
        "\n"
      ],
      "metadata": {
        "id": "u7DByzkwrfzX"
      },
      "execution_count": 6,
      "outputs": []
    },
    {
      "cell_type": "code",
      "source": [
        "# Initialization for training and validation\n",
        "train_losses = []\n",
        "val_losses = []\n",
        "train_accuracies = []\n",
        "val_accuracies = []\n",
        "\n",
        "early_stopping = EarlyStopping(patience=7, verbose=True)\n",
        "\n",
        "start_time = time.time()\n",
        "\n",
        "for epoch in range(num_epochs):\n",
        "    model.train()\n",
        "    running_loss = 0.0\n",
        "    correct_train = 0\n",
        "    total_train = 0\n",
        "\n",
        "    # Training loop\n",
        "    for i, (images, labels) in enumerate(train_loader):\n",
        "        images, labels = images.to(device), labels.to(device)\n",
        "        outputs = model(images)\n",
        "        loss = criterion(outputs, labels)\n",
        "        optimizer.zero_grad()\n",
        "        loss.backward()\n",
        "        optimizer.step()\n",
        "\n",
        "        running_loss += loss.item()\n",
        "\n",
        "        _, predicted = torch.max(outputs.data, 1)\n",
        "        total_train += labels.size(0)\n",
        "        correct_train += (predicted == labels).sum().item()\n",
        "\n",
        "    train_accuracy = 100 * correct_train / total_train\n",
        "    train_accuracies.append(train_accuracy)\n",
        "    train_losses.append(running_loss/len(train_loader))\n",
        "\n",
        "    # Validation\n",
        "    model.eval()\n",
        "    correct_val = 0\n",
        "    total_val = 0\n",
        "    val_loss = 0\n",
        "\n",
        "    with torch.no_grad():\n",
        "        for images, labels in val_loader:\n",
        "            images, labels = images.to(device), labels.to(device)\n",
        "            outputs = model(images)\n",
        "            loss = criterion(outputs, labels)\n",
        "            val_loss += loss.item()\n",
        "\n",
        "            _, predicted = torch.max(outputs.data, 1)\n",
        "            total_val += labels.size(0)\n",
        "            correct_val += (predicted == labels).sum().item()\n",
        "\n",
        "    val_accuracy = 100 * correct_val / total_val\n",
        "    val_accuracies.append(val_accuracy)\n",
        "    val_losses.append(val_loss/len(val_loader))\n",
        "\n",
        "    print(f'Epoch [{epoch+1}/{num_epochs}], Train Loss: {running_loss/len(train_loader)}, Train Accuracy: {train_accuracy}%, Val Loss: {val_loss/len(val_loader)}, Val Accuracy: {val_accuracy}%')\n",
        "\n",
        "    # Early stopping check\n",
        "    early_stopping(val_loss/len(val_loader), model) # use average validation loss\n",
        "    if early_stopping.early_stop:\n",
        "        print(\"Early stopping\")\n",
        "        break\n",
        "\n",
        "end_time = time.time()\n",
        "\n",
        "# Save the best model at the end of the training\n",
        "try:\n",
        "    if early_stopping.best_model:\n",
        "        torch.save(early_stopping.best_model, '/content/drive/My Drive/checkpoint.pt')\n",
        "        print(\"Best model saved to '/content/drive/My Drive/checkpoint.pt'\")\n",
        "except Exception as e:\n",
        "    print(f\"An error occurred while saving the model: {e}\")\n",
        "\n",
        "\n",
        "# Loading the best model weights\n",
        "print(\"Loading best model weights...\")\n",
        "try:\n",
        "    model.load_state_dict(early_stopping.best_model)\n",
        "    print(\"Best model weights loaded successfully.\")\n",
        "except Exception as e:\n",
        "    print(f\"An error occurred while loading the model weights: {e}\")\n",
        "\n",
        "print(f\"Total training time: {end_time - start_time}s\")\n",
        "print(f\"Average time per epoch: {(end_time - start_time) / (epoch+1)}s\")  # Use (epoch+1) since epoch starts from 0."
      ],
      "metadata": {
        "id": "F4Va_t1bruOj",
        "colab": {
          "base_uri": "https://localhost:8080/"
        },
        "outputId": "27a07d6b-3f2a-479a-e29c-d1dedd856bfc"
      },
      "execution_count": null,
      "outputs": [
        {
          "output_type": "stream",
          "name": "stdout",
          "text": [
            "Epoch [1/50], Train Loss: 3.7895308005213737, Train Accuracy: 12.3325%, Val Loss: 3.2270232363939284, Val Accuracy: 21.47%\n",
            "Epoch [2/50], Train Loss: 3.1611519422531127, Train Accuracy: 22.5575%, Val Loss: 2.7957218925952914, Val Accuracy: 29.88%\n",
            "Epoch [3/50], Train Loss: 2.852355007350445, Train Accuracy: 28.7025%, Val Loss: 2.53582603931427, Val Accuracy: 35.46%\n",
            "Epoch [4/50], Train Loss: 2.669388142824173, Train Accuracy: 32.1525%, Val Loss: 2.3622060869932175, Val Accuracy: 38.85%\n",
            "Epoch [5/50], Train Loss: 2.536007333487272, Train Accuracy: 34.8875%, Val Loss: 2.3374961035251616, Val Accuracy: 39.18%\n",
            "Epoch [6/50], Train Loss: 2.422117657423019, Train Accuracy: 37.43%, Val Loss: 2.1976183841824533, Val Accuracy: 43.0%\n",
            "Epoch [7/50], Train Loss: 2.321292638629675, Train Accuracy: 39.6325%, Val Loss: 2.145870532810688, Val Accuracy: 44.3%\n",
            "Epoch [8/50], Train Loss: 2.242761407673359, Train Accuracy: 41.2025%, Val Loss: 2.0782890985012052, Val Accuracy: 45.62%\n",
            "Epoch [9/50], Train Loss: 2.1617851472198963, Train Accuracy: 42.9975%, Val Loss: 2.081385504305363, Val Accuracy: 45.5%\n",
            "EarlyStopping counter: 1 out of 10\n",
            "Epoch [10/50], Train Loss: 2.0966678140461443, Train Accuracy: 44.33%, Val Loss: 1.972045861184597, Val Accuracy: 47.35%\n",
            "Epoch [11/50], Train Loss: 2.051956023424864, Train Accuracy: 45.3975%, Val Loss: 1.999389760941267, Val Accuracy: 47.4%\n",
            "EarlyStopping counter: 1 out of 10\n",
            "Epoch [12/50], Train Loss: 1.9967345542684198, Train Accuracy: 46.7775%, Val Loss: 1.9317758131921292, Val Accuracy: 48.57%\n",
            "Epoch [13/50], Train Loss: 1.9516040215790271, Train Accuracy: 47.62%, Val Loss: 1.9075549335181714, Val Accuracy: 49.64%\n",
            "Epoch [14/50], Train Loss: 1.8901245849430561, Train Accuracy: 48.8025%, Val Loss: 1.884208238273859, Val Accuracy: 49.87%\n",
            "Epoch [15/50], Train Loss: 1.8643945744261146, Train Accuracy: 49.4975%, Val Loss: 1.8870477152466774, Val Accuracy: 50.1%\n",
            "EarlyStopping counter: 1 out of 10\n",
            "Epoch [16/50], Train Loss: 1.8267808349877597, Train Accuracy: 50.5375%, Val Loss: 1.8517204122245312, Val Accuracy: 50.87%\n",
            "Epoch [17/50], Train Loss: 1.7830292691141367, Train Accuracy: 51.525%, Val Loss: 1.831788029283285, Val Accuracy: 51.73%\n",
            "Epoch [18/50], Train Loss: 1.7430476481691002, Train Accuracy: 52.4775%, Val Loss: 1.801268124639988, Val Accuracy: 52.39%\n",
            "Epoch [19/50], Train Loss: 1.7093439425975083, Train Accuracy: 53.115%, Val Loss: 1.8197639094889164, Val Accuracy: 51.53%\n",
            "EarlyStopping counter: 1 out of 10\n",
            "Epoch [20/50], Train Loss: 1.6801586872562766, Train Accuracy: 54.1925%, Val Loss: 1.80213876375556, Val Accuracy: 51.83%\n",
            "EarlyStopping counter: 2 out of 10\n",
            "Epoch [21/50], Train Loss: 1.658573994256556, Train Accuracy: 54.4125%, Val Loss: 1.7812935781776904, Val Accuracy: 53.19%\n",
            "Epoch [22/50], Train Loss: 1.6227748026326299, Train Accuracy: 55.025%, Val Loss: 1.7709546613097191, Val Accuracy: 52.85%\n",
            "Epoch [23/50], Train Loss: 1.5940073259547354, Train Accuracy: 55.8325%, Val Loss: 1.7706526958942412, Val Accuracy: 52.67%\n",
            "Epoch [24/50], Train Loss: 1.5813573723435401, Train Accuracy: 56.1275%, Val Loss: 1.7687262801826, Val Accuracy: 52.96%\n",
            "Epoch [25/50], Train Loss: 1.5378402157910167, Train Accuracy: 57.1125%, Val Loss: 1.793722625017166, Val Accuracy: 52.85%\n",
            "EarlyStopping counter: 1 out of 10\n",
            "Epoch [26/50], Train Loss: 1.5315370519906282, Train Accuracy: 57.3%, Val Loss: 1.7574876436442137, Val Accuracy: 53.72%\n",
            "Epoch [27/50], Train Loss: 1.5072242866270245, Train Accuracy: 57.96%, Val Loss: 1.7382015479803086, Val Accuracy: 53.88%\n",
            "Epoch [28/50], Train Loss: 1.4787089246995746, Train Accuracy: 58.545%, Val Loss: 1.736925659686327, Val Accuracy: 53.9%\n",
            "Epoch [29/50], Train Loss: 1.4629645689837634, Train Accuracy: 59.01%, Val Loss: 1.7471216475963594, Val Accuracy: 54.24%\n",
            "EarlyStopping counter: 1 out of 10\n",
            "Epoch [30/50], Train Loss: 1.449164032433182, Train Accuracy: 59.1425%, Val Loss: 1.766773850262165, Val Accuracy: 53.47%\n",
            "EarlyStopping counter: 2 out of 10\n",
            "Epoch [31/50], Train Loss: 1.4131486633755266, Train Accuracy: 60.3525%, Val Loss: 1.72069375179708, Val Accuracy: 54.92%\n",
            "Epoch [32/50], Train Loss: 1.404679244555533, Train Accuracy: 60.5375%, Val Loss: 1.719981130182743, Val Accuracy: 54.47%\n",
            "Epoch [33/50], Train Loss: 1.370382189847529, Train Accuracy: 61.36%, Val Loss: 1.736566732198, Val Accuracy: 55.08%\n",
            "EarlyStopping counter: 1 out of 10\n",
            "Epoch [34/50], Train Loss: 1.3597456767484546, Train Accuracy: 61.57%, Val Loss: 1.7225693652629852, Val Accuracy: 54.89%\n",
            "EarlyStopping counter: 2 out of 10\n",
            "Epoch [35/50], Train Loss: 1.339716689452529, Train Accuracy: 62.1%, Val Loss: 1.7238948380574584, Val Accuracy: 54.8%\n",
            "EarlyStopping counter: 3 out of 10\n",
            "Epoch [36/50], Train Loss: 1.3267482087723912, Train Accuracy: 62.4425%, Val Loss: 1.7115826340317726, Val Accuracy: 55.25%\n",
            "Epoch [37/50], Train Loss: 1.3094011706970632, Train Accuracy: 62.64%, Val Loss: 1.7136222065240145, Val Accuracy: 55.49%\n",
            "EarlyStopping counter: 1 out of 10\n",
            "Epoch [38/50], Train Loss: 1.292320380229503, Train Accuracy: 63.055%, Val Loss: 1.7160347193181515, Val Accuracy: 55.28%\n",
            "EarlyStopping counter: 2 out of 10\n",
            "Epoch [39/50], Train Loss: 1.2716183700039982, Train Accuracy: 63.6425%, Val Loss: 1.7227935990989207, Val Accuracy: 55.7%\n",
            "EarlyStopping counter: 3 out of 10\n",
            "Epoch [40/50], Train Loss: 1.2650306359753012, Train Accuracy: 63.86%, Val Loss: 1.732020856410265, Val Accuracy: 54.91%\n",
            "EarlyStopping counter: 4 out of 10\n",
            "Epoch [41/50], Train Loss: 1.2419246778525412, Train Accuracy: 64.4725%, Val Loss: 1.7397008931040765, Val Accuracy: 55.19%\n",
            "EarlyStopping counter: 5 out of 10\n",
            "Epoch [42/50], Train Loss: 1.2335298406723887, Train Accuracy: 64.565%, Val Loss: 1.7106667229235173, Val Accuracy: 55.72%\n",
            "Epoch [43/50], Train Loss: 1.2198844526074826, Train Accuracy: 65.0%, Val Loss: 1.7059766612946987, Val Accuracy: 56.06%\n",
            "Epoch [44/50], Train Loss: 1.1936863197162748, Train Accuracy: 65.6725%, Val Loss: 1.747804555594921, Val Accuracy: 55.52%\n",
            "EarlyStopping counter: 1 out of 10\n",
            "Epoch [45/50], Train Loss: 1.193420188423246, Train Accuracy: 65.7%, Val Loss: 1.7521405031830073, Val Accuracy: 55.33%\n",
            "EarlyStopping counter: 2 out of 10\n",
            "Epoch [46/50], Train Loss: 1.1700859711226075, Train Accuracy: 66.1375%, Val Loss: 1.7215199760347604, Val Accuracy: 56.03%\n",
            "EarlyStopping counter: 3 out of 10\n",
            "Epoch [47/50], Train Loss: 1.1697802425585686, Train Accuracy: 66.345%, Val Loss: 1.697185303926468, Val Accuracy: 56.44%\n",
            "Epoch [48/50], Train Loss: 1.146394386233762, Train Accuracy: 66.855%, Val Loss: 1.7527699636220933, Val Accuracy: 54.66%\n",
            "EarlyStopping counter: 1 out of 10\n",
            "Epoch [49/50], Train Loss: 1.1367224398162217, Train Accuracy: 67.085%, Val Loss: 1.744149515748024, Val Accuracy: 55.96%\n",
            "EarlyStopping counter: 2 out of 10\n"
          ]
        }
      ]
    },
    {
      "cell_type": "code",
      "source": [
        "# Visualization\n",
        "plt.figure(figsize=(12, 4))\n",
        "\n",
        "# Plotting Training and Validation Losses\n",
        "plt.subplot(1, 2, 1)\n",
        "plt.plot(train_losses, label='Training Loss')\n",
        "plt.plot(val_losses, label='Validation Loss')  # Changed from test_losses\n",
        "plt.xlabel('Epoch')\n",
        "plt.ylabel('Loss')\n",
        "plt.legend()\n",
        "\n",
        "# Plotting Training and Validation Accuracies\n",
        "plt.subplot(1, 2, 2)\n",
        "plt.plot(train_accuracies, label='Training Accuracy')\n",
        "plt.plot(val_accuracies, label='Validation Accuracy')  # Changed from test_accuracies\n",
        "plt.xlabel('Epoch')\n",
        "plt.ylabel('Accuracy (%)')\n",
        "plt.legend()\n",
        "\n",
        "plt.tight_layout()\n",
        "plt.show()"
      ],
      "metadata": {
        "id": "dlXz9ZZx9tVq",
        "colab": {
          "base_uri": "https://localhost:8080/",
          "height": 387
        },
        "outputId": "39cf33fc-9c09-463b-e899-433e735035a0"
      },
      "execution_count": 13,
      "outputs": [
        {
          "output_type": "display_data",
          "data": {
            "text/plain": [
              "<Figure size 1200x400 with 2 Axes>"
            ],
            "image/png": "[encoded data removed]"
          },
          "metadata": {}
        }
      ]
    },
    {
      "cell_type": "code",
      "source": [
        "def plot_confusion_matrix(y_true, y_pred, class_names):\n",
        "    # Compute confusion matrix\n",
        "    matrix = confusion_matrix(y_true, y_pred)\n",
        "\n",
        "    # Plot using Seaborn\n",
        "    plt.figure(figsize=(20, 20))\n",
        "    sns.set(font_scale=1.2)\n",
        "    sns.heatmap(matrix, annot=True, fmt='g', cmap='Blues', cbar=False,\n",
        "                xticklabels=class_names, yticklabels=class_names)\n",
        "\n",
        "    # Only annotate cells with more than a threshold (e.g., 10) misclassifications to avoid clutter\n",
        "    threshold = 10\n",
        "    for i, j in zip(*np.where(matrix > threshold)):\n",
        "        plt.text(j+0.5, i+0.5, matrix[i, j],\n",
        "                 fontsize=12,\n",
        "                 ha='center',\n",
        "                 va='center',\n",
        "                 color='red')\n",
        "\n",
        "    plt.xlabel('Predicted labels')\n",
        "    plt.ylabel('True labels')\n",
        "    plt.title('Confusion Matrix with Selective Annotations')\n",
        "    plt.show()"
      ],
      "metadata": {
        "id": "ExWaREk6dpCx"
      },
      "execution_count": 14,
      "outputs": []
    },
    {
      "cell_type": "code",
      "source": [
        "\n",
        "\n",
        "y_true = []\n",
        "y_pred = []\n",
        "with torch.no_grad():\n",
        "    for images, labels in test_loader:\n",
        "        images, labels = images.to(device), labels.to(device)\n",
        "        outputs = model(images)\n",
        "        _, predicted = torch.max(outputs.data, 1)\n",
        "        y_true.extend(labels.cpu().numpy())\n",
        "        y_pred.extend(predicted.cpu().numpy())\n",
        "\n"
      ],
      "metadata": {
        "id": "b1BCgn4ga5Ux"
      },
      "execution_count": null,
      "outputs": []
    },
    {
      "cell_type": "code",
      "source": [
        "# Calculate metrics\n",
        "accuracy = accuracy_score(y_true, y_pred)\n",
        "precision, recall, f_score, _ = precision_recall_fscore_support(y_true, y_pred, average='weighted')  # Added f_score\n",
        "\n",
        "print(f\"Accuracy: {accuracy:.2f}\")\n",
        "print(f\"Precision: {precision:.2f}\")\n",
        "print(f\"Recall: {recall:.2f}\")\n",
        "print(f\"F-Score: {f_score:.2f}\")  # Printing F-Score"
      ],
      "metadata": {
        "id": "LeRsgzrjsum9"
      },
      "execution_count": null,
      "outputs": []
    },
    {
      "cell_type": "code",
      "source": [
        "class_names = ['beaver', 'dolphin', 'otter', 'seal', 'whale',\n",
        "'aquarium' ,'fish', 'ray', 'shark', 'trout',\n",
        "'orchids', 'poppies', 'roses', 'sunflowers', 'tulips',\n",
        "'bottles', 'bowls', 'cans', 'cups', 'plates',\n",
        "'apples', 'mushrooms', 'oranges', 'pears', 'sweet peppers',\n",
        "'clock', 'computer keyboard', 'lamp', 'telephone', 'television', 'bed', 'chair', 'couch', 'table', 'wardrobe',\n",
        "'bee', 'beetle', 'butterfly', 'caterpillar', 'cockroach',\n",
        "'bear', 'leopard', 'lion', 'tiger', 'wolf',\n",
        "'bridge', 'castle', 'house', 'road', 'skyscraper',\n",
        "'cloud', 'forest', 'mountain', 'plain', 'sea',\n",
        "'camel', 'cattle', 'chimpanzee', 'elephant', 'kangaroo',\n",
        "'fox', 'porcupine', 'possum', 'raccoon', 'skunk',\n",
        "'crab', 'lobster', 'snail', 'spider', 'worm',\n",
        "'baby', 'boy', 'girl', 'man', 'woman',\n",
        "'crocodile', 'dinosaur', 'lizard', 'snake', 'turtle',\n",
        "'hamster', 'mouse', 'rabbit', 'shrew', 'squirrel',\n",
        "'maple', 'oak', 'palm', 'pine', 'willow',\n",
        "'bicycle', 'bus', 'motorcycle', 'pickup truck', 'train',\n",
        "'lawn-mower', 'rocket', 'streetcar', 'tank', 'tractor']\n",
        "\n",
        "\n",
        "plot_confusion_matrix(y_true, y_pred, class_names)"
      ],
      "metadata": {
        "id": "KH9xZu2QsyeD"
      },
      "execution_count": null,
      "outputs": []
    },
    {
      "cell_type": "code",
      "source": [],
      "metadata": {
        "id": "L691eF-99nNK"
      },
      "execution_count": null,
      "outputs": []
    },
    {
      "cell_type": "code",
      "source": [],
      "metadata": {
        "id": "RfzAhgYo9nNK"
      },
      "execution_count": null,
      "outputs": []
    }
  ]
}